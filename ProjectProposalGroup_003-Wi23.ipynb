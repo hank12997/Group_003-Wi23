{
 "cells": [
  {
   "cell_type": "markdown",
   "id": "9d10acf2",
   "metadata": {},
   "source": [
    "# COGS 108 - Final Project Proposal"
   ]
  },
  {
   "cell_type": "markdown",
   "id": "01146df5",
   "metadata": {},
   "source": [
    "# Names\n",
    "\n",
    "- Louisa Black\n",
    "- Hank Liao\n",
    "- Logan Miller\n",
    "- Jacob Paulson\n",
    "- Fatima Shirazi"
   ]
  },
  {
   "cell_type": "markdown",
   "id": "5d653d62",
   "metadata": {},
   "source": [
    "# Research Question\n",
    "\n",
    "Do accidents occur more often when the time is switched to daylight savings? If so, will the future permanent change to daylight savings mean that more accidents will occur during that change?\n",
    "\n",
    "##### Notes\n",
    "##### How we will answer this:\n",
    "\n",
    "- Pinpoint just California, just to compress the amount of data we are working with. California has the highest number of accidents, so it should be a good state to analyze. \n",
    "- Daylight Saving Time always begins on the second Sunday in March and ends on the first Sunday in November.\n",
    "- Just look at accident rates in california on the day of the second sunday in March and the first sunday in november \n",
    "- Compare the rates with the rest of the year OR compare with states that do not follow daylight savings (ie most parts of Arizona, Hawaii)\n",
    "- If there are higher rates of accidents right when daylight savings starts/ends, then we could infer that when the permanent change does come, we will see a higher rate of accidents\n",
    "- Because of the permanent change, the changes aren’t ever meant to happen again. This could possibly mean that spikes in accidents won’t happen again during the time that daylight savings used to occur. \n",
    "- If there is no change in the accident rates, then this probably means that the change in time (loss or gain of an hour) does not affect accident rates. \n",
    "\n",
    "##### Things to consider: \n",
    "\n",
    "- Since daylight savings is never on the same numerical date, we need to find the numerical date daylight savings occurs each year (ie. look at what data daylight savings starts and ends)\n",
    "- Probably stick to a certain interval of years in order to make data analysis easier\n",
    "- Daylight Savings Time always starts on a Sunday, but fewer accidents happen on Sundays compared to weekdays. Should we analyze days after Daylight Savings Time as well.\n"
   ]
  },
  {
   "cell_type": "markdown",
   "id": "7225078b",
   "metadata": {},
   "source": [
    "# Background and Prior Work\n",
    "\n",
    "Driving is one of the ways people commute or get around places. The school you go to or the company you work at is miles away, you just have to drive to get there. For example, many UCSD students need to drive to get to the campus, which also explains why there are so many parking lots or structures at UCSD. While driving may be essential, it also comes with the risk. The person turning might not pay attention and did not see that another car is already moving to the same street, and it will potentially lead to a car accident. The cause of an accident varies from case to case as there are many factors, such as time, weather condition, and road design, that contribute to an accident.\n",
    "\n",
    "Drowsy driving is a serious safety issue with as many as 1 in 25 Americans reporting having fallen asleep at the wheel in the past 30 days according to the CDC [5]. While the exact definition of drowsy driving is loose it is described by the CDC as driving with a lack of sleep and affects reaction time, decision making, and ability to pay attention to the road [5]. It is common among drivers driving in the early morning, late afternoon, and late night as well as those that are lacking sleep [5]. The CDC claims that drowsy driving is responsible for 91,000 accidents in 2017 [5]. With drowsy driving being such a serious issue it calls safety concerns to Daylight Savings Time which affects the sleep schedule of many Americans.\n",
    "\n",
    "Due to the complexity of car accidents, we needed a set of data that describe the details of accidents so that we can better understand the underlying cause of accidents. A countrywide accident dataset is collected from February 2016 to Dec 2021, using multiple APIs that provide streaming traffic incident (or event) data [3]. These APIs broadcast traffic data captured by a variety of entities, such as the US and state departments of transportation, law enforcement agencies, traffic cameras, and traffic sensors within the road-networks [3]. A prior analysis was conducted which provided a holistic view of accidents across the states which we can reference to assist our research.\n",
    "\n",
    "##### References:\n",
    "\n",
    "1. Centers for Disease Control and Prevention. (2022, November 21). Dangers of Drowsy Driving. https://www.cdc.gov/sleep/features/drowsy-driving.html\n",
    "2. Moosavi, S. (2021, January 1). US-Accidents: A Countrywide Traffic Accident Dataset. Sobhan Moosavi. https://smoosavi.org/datasets/us_accidents\n",
    "3. Moosavi, S. (2022, March 12). US Accidents (2016 - 2021). Kaggle. https://www.kaggle.com/datasets/sobhanmoosavi/us-accidents\n",
    "4. S. (n.d.). GitHub - shubamsumbria/us-accidents-analysis: Exploratory Data Analysis on “US Accidents” dataset to find out and visualize different trends including impact of COVID-19 on traffic behavior and accidents, environmental stimuli on accident occurrence and accident hotspot locations in order to get control over the same. GitHub. https://github.com/shubamsumbria/us-accidents-analysis\n",
    "5. The Editors. (n.d.). Daylight Saving Time 2023: When Does the Time Change? Almanac.com. https://www.almanac.com/content/when-daylight-saving-time"
   ]
  },
  {
   "cell_type": "markdown",
   "id": "cf1533fb",
   "metadata": {},
   "source": [
    "# Hypothesis\n",
    "\n",
    "We hypothesize that daylight savings will increase the rate of accidents that happen in California because of the disruption to people’s routines and sleep schedules. We came to our hypothesis by determining that the main risk with daylight saving and accidents came not from the change in daylight hours, but the fact that people’s schedules changed at all - affecting individual’s circadian rhythms and general routines."
   ]
  },
  {
   "cell_type": "markdown",
   "id": "082e989c",
   "metadata": {},
   "source": [
    "# Data\n",
    "\n",
    "Dataset Name: US Accidents (2016 - 2021)\n",
    "\n",
    "Link to the Dataset: https://www.kaggle.com/datasets/sobhanmoosavi/us-accidents \n",
    "\n",
    "Number of Observations: 2906610 rows(795868 rows for CA) × 47 columns \n",
    "\n",
    "Because of the most recent vote on whether or not to permanently instill daylight savings, we will be focused on the state of California rather than the whole U.S. \n",
    "\n",
    "For our analysis, we want to be able to have data that focuses on accidents within California that spans among a range of years. Because daylight savings always occurs on the second Sunday in March and ends on the first Sunday in November, we will rely on this fact in order to analyze our data for any range of years. Although there are other factors that can affect daylight savings, such as the actual day of the week it falls on or how vehicular/traffic technology has improved over time, we want to add consistency when choosing our range of time. \n",
    "\n",
    "We also want to analyze the number of accidents that occur on daylight savings. Because this date is different every year, we need to determine the exact date for each year and filter for these dates. To discern some trend in the data, we want to compare our results to a state that does not follow daylight savings. We can either compare to most of Arizona or Hawaii. \n",
    "\n",
    "The ideal dataset would have the variables described above and organized in a csv file, with a few hundred thousand results, or enough results so that our analysis does not reflect the overall amount of accidents in California and in a state that does not follow daylight savings. We also want our data to not have a large amount of null values, as this could lead us to remove accidents from our potential set of data, affecting our results. It would be convenient to have easily filterable times, such as working with military times instead of having the option of A.M and P.M.\n",
    "\n",
    "Overall, we want to study the number of accidents that occur during the change of daylight savings in California over the span of a certain number of years. We then want to compare this with a state that does not follow daylight savings (Arizona or Hawaii) in order to see if daylight savings increases the number of accidents, or if it has little to no effect. \n",
    "\n",
    "##### Note\n",
    "\n",
    "There are around 60k rows of data that are not accessible, potentially due to corruption during the download or upload process or due to the hardware capability to handle such a large amount of data. We think that since only a portion of data within these 60k, or worst case all of 60k, rows occur in California, and how 60k is relative to what we are able to access, these data won’t contribute a significant difference to our conclusion."
   ]
  },
  {
   "cell_type": "markdown",
   "id": "2dd12405",
   "metadata": {},
   "source": [
    "# Ethics & Privacy\n",
    "\n",
    "Ethical concerns over answering this question involves whether or not those impacted by the car accidents in the provided dataset would feel okay with that information being handled for this purpose. Car accidents are not typically a matter of public record in the state of California, so we must take into consideration additional steps when handling private data such as this, especially due to its sensitive nature given the possible death and tragedy that occurred as a result of the car accidents recorded in this data set. \n",
    "\n",
    "Since we decided to focus on California and it’s a more diverse state than most in the country, there are naturally populations to be taken into consideration as well as the stereotypes associated with them in regards to “bad driving”. Women tend to be seen as bad drivers, but this stereotype tends to reach Latinx and Asian drivers, as well, both populations which are much more frequent in California than the majority of the US. Because of this, there are innate biases one may have when handling this data and determining possible causes for a car accident in the data set. We want to make sure that when we draw a correlation, it’s based on the time of day and the likeliness of that being the reason for the car accident, and not because a person of a particular gender or race is a “bad driver”. \n",
    "\n",
    "The way we addressed these issues is twofold; first on a privacy basis, is checking first that the data found did not include the persons’ names, personal information, nor any details of the car accident other than the accident occurred at a particular date and time for the sake of investigating our hypothesis. Second, on a biases standpoint, we also saw that any identifiers including one’s ethnic background, nationality, immigration status etc was not exposed when extracting and surveying this data, thereby eliminating any biases against a particular population to fester in the first place to then perpetuate harmful stereotypes as well as delegitimize results. Ultimately by being able to handle this data in a safe and considerate manner, we will be able to note particular trends when car accidents are most likely to happen during Daylights Savings, thereby warning drivers to take increased caution in those periods, providing a net positive overall. \n",
    "\n",
    "It is known that the jump forward in time-or when daylight savings begins-has caused a negative trend in the health of people, specifically the increased rates of heart attacks and death caused by this rate. This could be a result of the circadian rhythm that all living organisms abide by. A sudden change in this rhythm unsurprisingly has a staggering effect on a person’s wellbeing. Knowing that daylight savings affects the health of a person, those that are more prepared to deal with such sudden changes are therefore more likely to not be negatively affected by the change, leading to a bias in wealth, resources, etc."
   ]
  },
  {
   "cell_type": "markdown",
   "id": "45dc4841",
   "metadata": {},
   "source": [
    "# Team Expectations\n",
    "\n",
    "- Team Expectation 1: We effectively communicate with other members of the group and do so in a timely fashion so as not to delay the project and respect each other's time.\n",
    "- Team Expectation 2: We understand the responsibilities that we may delegate to specific group members and fulfill these responsibilities or make it clear where assistance is needed.\n",
    "- Team Expectation 3: We act respectfully towards one another and are considerate of the thoughts and ideas of other group members."
   ]
  },
  {
   "cell_type": "markdown",
   "id": "cee50703",
   "metadata": {},
   "source": [
    "# Project Timeline Proposal"
   ]
  },
  {
   "cell_type": "markdown",
   "id": "1d180c15",
   "metadata": {},
   "source": [
    "| Date | Description | Note |\n",
    "| :- | :- | :- |\n",
    "| 3/3 | Project check point 1, share ideas and decide research question |  |\n",
    "| 3/5 | Completing first draft of ProjectProposal and DataCheckpoint |  |\n",
    "| 3/10 | EDA and analysis |  |\n",
    "| 3/17 | Polishing code, documentaion |  |\n",
    "| 3/19 | Video/In-person presentation | unsure what we want to do yet, and date might change |\n"
   ]
  }
 ],
 "metadata": {
  "kernelspec": {
   "display_name": "Python 3 (clean)",
   "language": "python",
   "name": "python3_clean"
  },
  "language_info": {
   "codemirror_mode": {
    "name": "ipython",
    "version": 3
   },
   "file_extension": ".py",
   "mimetype": "text/x-python",
   "name": "python",
   "nbconvert_exporter": "python",
   "pygments_lexer": "ipython3",
   "version": "3.9.5"
  }
 },
 "nbformat": 4,
 "nbformat_minor": 5
}
